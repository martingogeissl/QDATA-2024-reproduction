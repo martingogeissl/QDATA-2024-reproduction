{
 "cells": [
  {
   "cell_type": "markdown",
   "id": "dfac057c-75e4-4ba1-8329-5414767feef1",
   "metadata": {},
   "source": [
    "# Jupyter Notebook for \"Quantum Data Encoding Patterns and their Consequences\"\n",
    "\n",
    "### Structure:\n",
    "1. Prerequisites\n",
    "    1. Sudoku graph creation and variable definitions\n",
    "    2. Function definition for the circuit mapping\n",
    "2. Encodings\n",
    "    1. One-Hot\n",
    "    2. Standard Unary\n",
    "    3. Hypergraph Unary\n",
    "    4. Binary restrictions\n",
    "        1. Inequality\n",
    "        2. Boolean\n",
    "    5. Binary boolean\n",
    "    6. Binary inequality"
   ]
  },
  {
   "cell_type": "markdown",
   "id": "6ea084f7-b546-497d-8484-fbe75c4be39b",
   "metadata": {
    "tags": []
   },
   "source": [
    "# 1. Prerequisites"
   ]
  },
  {
   "cell_type": "markdown",
   "id": "e4b50441-46b5-4080-8f2c-ae217020b758",
   "metadata": {
    "tags": []
   },
   "source": [
    "## 1.1 Sudoku graph creation and variable definitions"
   ]
  },
  {
   "cell_type": "code",
   "execution_count": 1,
   "id": "7a840c1c-1e5c-43c6-a79c-7a6584c537eb",
   "metadata": {
    "tags": []
   },
   "outputs": [
    {
     "data": {
      "image/png": "[encoded data removed]",
      "text/plain": [
       "<Figure size 640x480 with 1 Axes>"
      ]
     },
     "metadata": {},
     "output_type": "display_data"
    }
   ],
   "source": [
    "# Standard Python libraries\n",
    "import numpy as np\n",
    "import networkx as nx\n",
    "import math\n",
    "import sympy as sp\n",
    "from sympy.abc import i\n",
    "from sympy.abc import j\n",
    "\n",
    "# myQLM framework libraries\n",
    "from qat.opt import GraphColouring, CombinatorialProblem\n",
    "from qat.opt.boolexpr import Clause\n",
    "from qat.core import Observable, Term\n",
    "from qat.vsolve.ansatz import AnsatzFactory\n",
    "\n",
    "\n",
    "# Create the Sudoku graph\n",
    "n=2\n",
    "N = n*n\n",
    "nb_vertices = N*N\n",
    "nb_edges = 0.5 * N*N * (3*N - 2*n -1)\n",
    "G = nx.sudoku_graph(n)\n",
    "\n",
    "# Define number of bits variables\n",
    "nb_bits_per_vertex = {'one-hot': N, 'unary': N-1, 'binary': math.ceil(math.log2(N))}\n",
    "nb_bits = {\n",
    "    'one-hot': nb_bits_per_vertex['one-hot']*nb_vertices, \n",
    "    'unary':   nb_bits_per_vertex['one-hot']*nb_vertices, \n",
    "    'binary':  nb_bits_per_vertex['one-hot']*nb_vertices\n",
    "}\n",
    "\n",
    "# Define the Ansatz generating strategy\n",
    "# 'default' 'coloring' 'gray_synth'\n",
    "circuit_generator_strategy = 'coloring'\n",
    "\n",
    "# Draw the graph\n",
    "pos = dict(zip(list(G.nodes()), nx.grid_2d_graph(N, N)))\n",
    "nx.draw(G, pos=pos)"
   ]
  },
  {
   "cell_type": "markdown",
   "id": "cffb5d41-66d6-42f7-b7ed-339bd45d0944",
   "metadata": {},
   "source": [
    "## 1.2 Function definition for the circuit mapping"
   ]
  },
  {
   "cell_type": "code",
   "execution_count": 13,
   "id": "eeaaaf7b-39a5-426c-ab5d-a85e1c67f306",
   "metadata": {
    "tags": []
   },
   "outputs": [],
   "source": [
    "# Retrive the list of hyperedges\n",
    "def get_hyper_edges() -> list[list[int]]:\n",
    "    edges = []\n",
    "    # rows\n",
    "    for row in range(N):\n",
    "        edge = []\n",
    "        for cell in range(N):\n",
    "            edge.append(row*N+cell)\n",
    "        edges.append(edge)\n",
    "        \n",
    "    # columns\n",
    "    for col in range(N):\n",
    "        edge = []\n",
    "        for cell in range(N):\n",
    "            edge.append(col+N*cell)\n",
    "        edges.append(edge)\n",
    "    \n",
    "    # subgrids\n",
    "    for grid_i in range(n):\n",
    "        for grid_j in range(n):\n",
    "            edge = []\n",
    "            for i1 in range(grid_i * n, grid_i * n + n):\n",
    "                for j1 in range(grid_j * n, grid_j * n + n):\n",
    "                    edge.append(i1*N+j1)\n",
    "            edges.append(edge)\n",
    "    return edges\n",
    "\n",
    "# Calculates the depth of a circuit\n",
    "def depth(circuit) -> int:\n",
    "    slices = [set()]\n",
    "    for op in circuit:\n",
    "        qbits = op.qbits\n",
    "        insert_in = None\n",
    "        for index, slic in enumerate(reversed(slices)):\n",
    "            if all(qb not in slic for qb in qbits):\n",
    "                continue\n",
    "            insert_in = index\n",
    "            break\n",
    "        if insert_in is None:\n",
    "            for qb in qbits:\n",
    "                slices[0].add(qb)\n",
    "        elif insert_in == 0:\n",
    "            slices.append(set(qbits))\n",
    "        else:\n",
    "            for qb in qbits:\n",
    "                slices[len(slices) - insert_in].add(qb)\n",
    "    return len(slices)\n",
    "\n",
    "# Breaks down the powers of an Ising-Model\n",
    "# 1 = x^2 = x^4 = x^6 ..., x = x^3 = x^5 = x^7 ...\n",
    "def replace_powers(expr):\n",
    "    return expr.replace(\n",
    "        lambda x: x.is_Pow and x.exp % 2 == 0, \n",
    "        lambda x: 1\n",
    "    ).replace(\n",
    "        lambda x: x.is_Pow and x.exp % 2 == 1, \n",
    "        lambda x: x.base.func(*x.base.args)\n",
    "    )\n",
    "\n",
    "# Transforms a Sympy expression into an observable object that can be passed to the AnsatzFactory\n",
    "def build_terms(expression, D, nb_slacks_per_edge=0, nb_slacks_per_vertex=0):\n",
    "    # Define observable size\n",
    "    observable = Observable(int(D * nb_vertices + nb_slacks_per_edge * nb_edges + nb_slacks_per_vertex * nb_vertices))\n",
    "    \n",
    "    # iterate through each term of the expression\n",
    "    for exp in expression:\n",
    "        # Filter out numerical values\n",
    "        if isinstance(exp, sp.Rational) or isinstance(exp, sp.Integer):\n",
    "            observable.add_term(Term(float(exp), 'I', [0]))\n",
    "            continue\n",
    "        # Get the coefficient of a term. If not exists => coefficient = 1\n",
    "        try:\n",
    "            coeff = float(exp.args[0])\n",
    "        except:\n",
    "            coeff = 1\n",
    "\n",
    "        # The amount of variable literals in a term\n",
    "        exp_length = len(exp.atoms(sp.Indexed))\n",
    "        \n",
    "        qubits = []\n",
    "        \n",
    "        # Iterate through the set of literals in the Term and create a list of indices for corresponding qubit arities\n",
    "        for arg in exp.atoms(sp.Indexed):\n",
    "            ind = arg.indices\n",
    "            if arg.base == sp.IndexedBase('x'):\n",
    "                qubits.append(ind[0] + ind[1] * nb_vertices)\n",
    "            else:\n",
    "                qubits.append(D * nb_vertices + ind[0] * nb_slacks_per_edge + ind[1])\n",
    "                \n",
    "        # Create the Ising term\n",
    "        term = Term(coeff, 'Z'*exp_length, qubits)\n",
    "        observable.add_term(term)\n",
    "    return observable\n",
    "\n",
    "# Prints the depth and the amount of CNOTs of an observable\n",
    "def print_metrics(encoding: str, observable: Observable, strategy: str, p=1):\n",
    "    ansatz = AnsatzFactory.qaoa_circuit(observable, p, strategy=strategy)\n",
    "    print(f'Encoding: {encoding}\\n\\tDepth: {depth(ansatz)}\\n\\t#CNOT: {ansatz.count(\"CNOT\")}')"
   ]
  },
  {
   "cell_type": "markdown",
   "id": "f1414a5b-aef5-4597-988c-4a5100722618",
   "metadata": {},
   "source": [
    "# 2. Encodings"
   ]
  },
  {
   "cell_type": "markdown",
   "id": "0748c7d3-7124-4435-83c4-4794d95de8bb",
   "metadata": {},
   "source": [
    "## 2.1 One-Hot"
   ]
  },
  {
   "cell_type": "code",
   "execution_count": 4,
   "id": "2337a4e8-6a84-4e2d-880a-069a8b51cefe",
   "metadata": {
    "tags": []
   },
   "outputs": [
    {
     "name": "stdout",
     "output_type": "stream",
     "text": [
      "Encoding: Standard One-Hot\n",
      "\tDepth: 33\n",
      "\t#CNOT: 640\n"
     ]
    }
   ],
   "source": [
    "# Amount of decision bits per vertex\n",
    "D = nb_bits_per_vertex['one-hot']\n",
    "\n",
    "# Implements the encoding as a Sympy expression\n",
    "def standard_one_hot_expression(D):\n",
    "    x = sp.IndexedBase('x')\n",
    "    expr = 0\n",
    "    for edge in G.edges:\n",
    "        expr += sp.summation((x[edge[0], i]+1)/2 * (x[edge[1], i]+1)/2, (i, 0, D-1))\n",
    "    for vertex in range(nb_vertices):\n",
    "        expr += (1 - sp.summation((x[vertex, i]+1)/2, (i, 0, D-1)))**2\n",
    "    expr = sp.expand(expr)\n",
    "    expr = replace_powers(expr)\n",
    "    return expr.args\n",
    "\n",
    "expr = standard_one_hot_expression(D)\n",
    "observable = build_terms(expr, D)\n",
    "\n",
    "print_metrics('Standard One-Hot', observable, circuit_generator_strategy)"
   ]
  },
  {
   "cell_type": "markdown",
   "id": "f74df3e5-6fdb-4928-805e-a18e0d030af7",
   "metadata": {},
   "source": [
    "## 2.2 Standard Unary"
   ]
  },
  {
   "cell_type": "code",
   "execution_count": 30,
   "id": "9a91b27a-2f15-404e-9d9c-f859da0fc436",
   "metadata": {
    "tags": []
   },
   "outputs": [
    {
     "name": "stdout",
     "output_type": "stream",
     "text": [
      "Encoding: Standard Unary\n",
      "\tDepth: 1495\n",
      "\t#CNOT: 20256\n"
     ]
    }
   ],
   "source": [
    "# Amount of decision bits per vertex\n",
    "D = nb_bits_per_vertex['unary']\n",
    "\n",
    "# Additional slack variables:\n",
    "nb_slacks_per_edge_unary = int(1 + math.floor(math.log2(pow(D, 2) - 1)))\n",
    "\n",
    "# Implements the encoding as a Sympy expression\n",
    "def standard_unary_expression(D):\n",
    "    x = sp.IndexedBase('x')\n",
    "    s = sp.IndexedBase('s')\n",
    "    expr = 0\n",
    "    for edge_number, edge in enumerate(G.edges):\n",
    "        slacks = sp.summation(2**i * (s[edge_number, i]+1)/2, (i, 0, nb_slacks_per_edge_unary - 1))\n",
    "        expr += (-(sp.summation((x[edge[0], i]+1)/2 - (x[edge[1], i]+1)/2, (i, 0, D-1)))**2 + 1 + slacks)**2\n",
    "    expr = sp.expand(expr)\n",
    "    expr = replace_powers(expr)\n",
    "    return expr.args\n",
    "        \n",
    "        \n",
    "expr = standard_unary_expression(D)\n",
    "observable = build_terms(expr, D, nb_slacks_per_edge=nb_slacks_per_edge_unary)\n",
    "\n",
    "print_metrics('Standard Unary', observable, circuit_generator_strategy)"
   ]
  },
  {
   "cell_type": "markdown",
   "id": "2a20e741-c37c-4fca-ade9-0d3214715995",
   "metadata": {
    "tags": []
   },
   "source": [
    "## 2.3 Hypergraph Unary"
   ]
  },
  {
   "cell_type": "code",
   "execution_count": 5,
   "id": "1049d0fa-9035-4626-965c-570ba5dd5924",
   "metadata": {
    "tags": []
   },
   "outputs": [
    {
     "name": "stdout",
     "output_type": "stream",
     "text": [
      "Encoding: Hypergraph Unary\n",
      "\tDepth: 29\n",
      "\t#CNOT: 400\n"
     ]
    }
   ],
   "source": [
    "# Amount of decision bits per vertex\n",
    "D = nb_bits_per_vertex['unary']\n",
    "\n",
    "# Implements the encoding as a Sympy expression\n",
    "def hypergraph_unary_expression(D):\n",
    "    x = sp.IndexedBase('x')\n",
    "    expr = 0\n",
    "    for iteration in range(D):\n",
    "        for edge in get_hyper_edges():\n",
    "            expr += (sum([(x[edge[k], iteration]+1)/2 for k in range(len(edge))]) - iteration - 1)**2\n",
    "    \n",
    "    for vertex in range(nb_vertices):\n",
    "        expr += sp.summation((x[vertex, i]+1)/2 - (x[vertex, i]+1)/2 * (x[vertex, i+1]+1)/2, (i, 0, D-2))\n",
    "    expr = sp.expand(expr)\n",
    "    expr = replace_powers(expr)\n",
    "    return expr.args\n",
    "\n",
    "expr = hypergraph_unary_expression(D)\n",
    "observable = build_terms(expr, D)\n",
    "print_metrics('Hypergraph Unary', observable, circuit_generator_strategy)"
   ]
  },
  {
   "cell_type": "markdown",
   "id": "ecb215a1-2297-4bfd-9443-2e5f02ed34b5",
   "metadata": {},
   "source": [
    "## 2.4 Binary restrictions\n",
    "Only necessary, if $N^2 \\neq 2^k$ for any $k\\in \\mathbb{N}$\n",
    "\n",
    "2.4.1 and 2.4.2 show the encodings for $n=3$ independently from the other encodings"
   ]
  },
  {
   "cell_type": "markdown",
   "id": "8ab5ead4-e00b-4bdc-ac3b-6fe322cd5c80",
   "metadata": {},
   "source": [
    "### 2.4.1 Inequality"
   ]
  },
  {
   "cell_type": "code",
   "execution_count": 12,
   "id": "79a5decd-4ddf-45ed-9b28-e1a6802df457",
   "metadata": {
    "tags": []
   },
   "outputs": [
    {
     "name": "stdout",
     "output_type": "stream",
     "text": [
      "Encoding: Binary Inequality Restriction\n",
      "\tDepth: 23\n",
      "\t#CNOT: 2430\n"
     ]
    }
   ],
   "source": [
    "N_restr = 9\n",
    "nb_vertices_restr = N_restr**2\n",
    "D = math.ceil(math.log2(N_restr))\n",
    "\n",
    "nb_bits = nb_vertices_restr * D\n",
    "\n",
    "nb_slacks_per_vertex = int(1 + math.floor(math.log2(N-1)))\n",
    "nb_slacks = int(nb_vertices_restr * nb_slacks_per_vertex)\n",
    "\n",
    "def binary_value_restriction_inequality(D):\n",
    "    n = sp.symbols('i')\n",
    "    x_n = sp.Function('x')(n)\n",
    "    s_n = sp.Function('s')(n)\n",
    "    \n",
    "    expression = (sp.summation(2**i * (x_n+1)/2, (i, 0, D-1)) - N_restr + 1\n",
    "                  + sp.summation(2**i * (s_n+1)/2, (i, 0, math.floor(math.log2(D - 1)))))**2\n",
    "    expanded = replace_powers(sp.expand(expression))\n",
    "    return(expanded.args)\n",
    "                             \n",
    "exp_terms = binary_value_restriction_inequality(D)\n",
    "\n",
    "def build_terms_binary_inequality_restriction(expression):\n",
    "    observable = Observable(nb_bits + nb_slacks)\n",
    "    variable_matching = {'x': 0, 's': 1}\n",
    "    for vertex in range(nb_vertices_restr):\n",
    "        variables = [[vertex + arity*nb_vertices_restr for arity in range(D)],  \n",
    "                     [nb_bits + s + vertex*nb_slacks_per_vertex for s in range(nb_slacks_per_vertex)]]\n",
    "        for exp in expression:\n",
    "            if isinstance(exp, sp.Rational) or isinstance(exp, sp.Integer):\n",
    "                observable.add_term(Term(int(exp), 'I', [0]))\n",
    "                continue\n",
    "                \n",
    "            try:\n",
    "                coeff = float(exp.args[0])\n",
    "            except:\n",
    "                coeff = 1\n",
    "\n",
    "            exp_length = len(exp.atoms(sp.Function))\n",
    "            qubits = []\n",
    "            for arg in exp.atoms(sp.Function):\n",
    "                var_type = variable_matching[str(arg.name)]\n",
    "                var_arity = arg.args[0]\n",
    "                assigned_var = variables[var_type][var_arity]\n",
    "                qubits.append(assigned_var)\n",
    "            term = Term(coeff, 'Z'*exp_length, qubits)\n",
    "            observable.add_term(term)\n",
    "    return observable\n",
    "\n",
    "observable = build_terms_binary_inequality_restriction(exp_terms)\n",
    "print_metrics('Binary Inequality Restriction', observable, circuit_generator_strategy)"
   ]
  },
  {
   "cell_type": "markdown",
   "id": "ed1797c2-40d8-4789-8d7c-63129429cbe6",
   "metadata": {},
   "source": [
    "### 2.4.2 Boolean SAT"
   ]
  },
  {
   "cell_type": "code",
   "execution_count": 9,
   "id": "3b659c99-974d-4cd5-b0ad-cdeb45612654",
   "metadata": {
    "tags": []
   },
   "outputs": [
    {
     "name": "stdout",
     "output_type": "stream",
     "text": [
      "Encoding: Binary SAT Restriction\n",
      "\tDepth: 12\n",
      "\t#CNOT: 486\n"
     ]
    }
   ],
   "source": [
    "N_restr = 9\n",
    "nb_vertices_restr = N_restr**2\n",
    "max_I = N_restr -1\n",
    "binary_I = bin(max_I)[2:]\n",
    "\n",
    "# Define bits, s.t. the binary bitstring is given by: 'x = xi mod N^2'\n",
    "bit_labels = [[vertice + bit_position*nb_vertices_restr for bit_position in range(math.ceil(math.log2(N_restr)))] for vertice in range(nb_vertices_restr)]\n",
    "def rec_expression_builder(bitstring, expression=''):\n",
    "    if len(bitstring) == 0 or '0' not in bitstring:\n",
    "        return expression\n",
    "\n",
    "    current_bit = bitstring[0]\n",
    "    if current_bit == '1':\n",
    "        expression = rec_expression_builder(bitstring[1:], f'{expression}(x({len(bitstring)-1})+1)/2 *')\n",
    "    if current_bit == '0':\n",
    "        expression = rec_expression_builder(bitstring[1:], f'{expression}((x({len(bitstring)-1})+1)/2+')\n",
    "        expression = f'{expression})'\n",
    "    return expression\n",
    "\n",
    "formatted_string = rec_expression_builder(binary_I).replace('*)', ')').replace('+)', ')')\n",
    "sp_exp = sp.expand(sp.sympify(formatted_string))\n",
    "\n",
    "def build_terms_binary_boolean_restriction(expression, l):\n",
    "    observable = Observable(l * nb_vertices_restr)\n",
    "    for vertex in range(nb_vertices_restr):\n",
    "        for exp in expression:\n",
    "            if isinstance(exp, sp.Rational) or isinstance(exp, sp.Integer):\n",
    "                observable.add_term(Term(int(exp), 'I', [0]))\n",
    "                continue\n",
    "            try:\n",
    "                coeff = float(exp.args[0])\n",
    "            except:\n",
    "                coeff = 1\n",
    "\n",
    "            exp_length = len(exp.atoms(sp.Function))\n",
    "            qubits = []\n",
    "            for arg in exp.atoms(sp.Function):\n",
    "                var_arity = arg.args[0]\n",
    "                assigned_var = bit_labels[vertex][var_arity]\n",
    "                qubits.append(assigned_var)\n",
    "            term = Term(coeff, 'Z'*exp_length, qubits)\n",
    "            observable.add_term(term)\n",
    "    return observable\n",
    "\n",
    "length = len(sp_exp.atoms(sp.Function))\n",
    "observable = build_terms_binary_boolean_restriction(sp_exp.args, length)\n",
    "print_metrics('Binary SAT Restriction', observable, circuit_generator_strategy)"
   ]
  },
  {
   "cell_type": "markdown",
   "id": "295bf702-8554-403b-867b-c0a54dd8e545",
   "metadata": {
    "tags": []
   },
   "source": [
    "## 2.5 Binary boolean\n",
    "This encodings does not incorporate the value restrictions from 2.4"
   ]
  },
  {
   "cell_type": "code",
   "execution_count": 14,
   "id": "f62e3ce6-b660-4fde-a1f4-603b7ad39198",
   "metadata": {
    "tags": []
   },
   "outputs": [
    {
     "name": "stdout",
     "output_type": "stream",
     "text": [
      "Encoding: Binary Boolean\n",
      "\tDepth: 72\n",
      "\t#CNOT: 560\n"
     ]
    }
   ],
   "source": [
    "# Amount of decision bits per vertex\n",
    "D = nb_bits_per_vertex['binary']\n",
    "\n",
    "# Implements the encoding as a Sympy expression\n",
    "def binary_boolean_expression(D):\n",
    "    x = sp.IndexedBase('x')\n",
    "    expr = 0\n",
    "    for edge in G.edges:\n",
    "        expr += sp.product(2*(x[edge[0], i]+1)/2 * (x[edge[1], i]+1)/2 - (x[edge[0], i]+1)/2 - (x[edge[1], i]+1)/2, (i, 0, D-1))\n",
    "    \n",
    "    expr = sp.expand(expr)\n",
    "    expr = replace_powers(expr)\n",
    "    return expr.args\n",
    "\n",
    "expr = binary_boolean_expression(D)\n",
    "observable = build_terms(expr, D)\n",
    "print_metrics('Binary Boolean', observable, circuit_generator_strategy)"
   ]
  },
  {
   "cell_type": "markdown",
   "id": "902144cb-2fdc-4c1b-a248-82b7a467e0bc",
   "metadata": {
    "tags": []
   },
   "source": [
    "## 2.6 Binary inequality\n",
    "This encodings does not incorporate the value restrictions from 2.4"
   ]
  },
  {
   "cell_type": "code",
   "execution_count": 15,
   "id": "e14010ad-0e4f-454e-805b-3fe8abaf6892",
   "metadata": {
    "tags": []
   },
   "outputs": [
    {
     "name": "stdout",
     "output_type": "stream",
     "text": [
      "Encoding: Binary inequality\n",
      "\tDepth: 109\n",
      "\t#CNOT: 1008\n"
     ]
    }
   ],
   "source": [
    "# Amount of decision bits per vertex\n",
    "D = nb_bits_per_vertex['binary']\n",
    "\n",
    "# Number of slacks\n",
    "nb_slacks_per_edge_binary = int(1 + math.floor(math.log2(D - 1)))\n",
    "\n",
    "# Implements the encoding as a Sympy expression\n",
    "def binary_inequality_expression(D):\n",
    "    x = sp.IndexedBase('x')\n",
    "    s = sp.IndexedBase('s')\n",
    "    expr = 0\n",
    "    for edge_number, edge in enumerate(G.edges):\n",
    "        slacks = sp.summation(2**i * (s[edge_number, i]+1)/2, (i, 0, nb_slacks_per_edge_binary - 1))\n",
    "        expr += (sp.summation(2*(x[edge[0], i]+1)/2 * (x[edge[1], i]+1)/2 - (x[edge[0], i]+1)/2 - (x[edge[1], i]+1)/2, (i, 0, D-1)) + 1 + slacks)**2\n",
    "    \n",
    "    expr = sp.expand(expr)\n",
    "    expr = replace_powers(expr)\n",
    "    return expr.args\n",
    "\n",
    "expr = binary_inequality_expression(D)\n",
    "observable = build_terms(expr, D, nb_slacks_per_edge=nb_slacks_per_edge_binary)\n",
    "print_metrics('Binary inequality', observable, circuit_generator_strategy)"
   ]
  }
 ],
 "metadata": {
  "kernelspec": {
   "display_name": "Python 3 (ipykernel)",
   "language": "python",
   "name": "python3"
  },
  "language_info": {
   "codemirror_mode": {
    "name": "ipython",
    "version": 3
   },
   "file_extension": ".py",
   "mimetype": "text/x-python",
   "name": "python",
   "nbconvert_exporter": "python",
   "pygments_lexer": "ipython3",
   "version": "3.9.16"
  }
 },
 "nbformat": 4,
 "nbformat_minor": 5
}
